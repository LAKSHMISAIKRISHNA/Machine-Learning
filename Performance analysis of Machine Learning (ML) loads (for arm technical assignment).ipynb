{
 "cells": [
  {
   "cell_type": "markdown",
   "id": "e5e9ec24",
   "metadata": {},
   "source": [
    "# TITLE :- Performance analysis of Machine Learning (ML) loads\n",
    "### NAME :- YARRU LAKSHMI SAI KRISHNA\n",
    "### EMAIL ID :- yarrulakshmisai111@gmail.com"
   ]
  },
  {
   "cell_type": "code",
   "execution_count": null,
   "id": "4fde8a67",
   "metadata": {},
   "outputs": [],
   "source": [
    "import pickle\n",
    "import numpy as np\n",
    "import pandas as pd\n",
    "import matplotlib.pyplot as plt\n",
    "import seaborn as sns"
   ]
  },
  {
   "cell_type": "markdown",
   "id": "0255ea7b",
   "metadata": {},
   "source": [
    "## load the pickle file into appropriate form"
   ]
  },
  {
   "cell_type": "code",
   "execution_count": 3,
   "id": "4a9e7f0c",
   "metadata": {},
   "outputs": [
    {
     "name": "stdout",
     "output_type": "stream",
     "text": [
      "    TestId  Build Optimised   Time (ms)  PeakMemory (MB)\n",
      "0       33     10         N  125.000000              307\n",
      "1       43     10         Y   50.000000               50\n",
      "2       36     10         N   50.000000              458\n",
      "3        1      2         N   64.000000              451\n",
      "4       16      8         N  104.000000              453\n",
      "5       27     10         N  500.000000              300\n",
      "6       26      9         N   53.000000              457\n",
      "7       41     10         N  200.000000              454\n",
      "8       37     10         N  800.000000              298\n",
      "9       46     10         Y   20.000000               86\n",
      "10       4      5         N   63.000000              448\n",
      "11      44     10         Y   33.333333               53\n",
      "12      24      7         N   50.000000              458\n",
      "13       9      1         N  101.000000              450\n",
      "14       6      7         Y   25.000000              450\n",
      "15       0      1         N   65.000000              450\n",
      "16      22      5         N   51.000000              456\n",
      "17      13      5         N  101.000000              452\n",
      "18      29     10         N  166.666667              311\n",
      "19      18      1         N   53.000000              456\n",
      "20      17      9         N  102.000000              449\n",
      "21      45     10         Y   25.000000               85\n",
      "22      21      4         N   50.000000              457\n",
      "23      11      3         N  104.000000              453\n",
      "24      19      2         N   53.000000              456\n",
      "25      42     10         Y  100.000000               51\n",
      "26      38     10         N  500.000000              305\n",
      "27       8      9         Y   19.000000              449\n",
      "28      40     10         N  250.000000              449\n",
      "29      30     10         N  125.000000              450\n",
      "30      31     10         N  100.000000              449\n",
      "31      23      6         N   54.000000              458\n",
      "32      20      3         N   52.000000              457\n",
      "33      32     10         N  250.000000              301\n",
      "34      12      4         N  102.000000              453\n",
      "35       2      3         N   65.000000              450\n",
      "36      35     10         N  300.000000              460\n",
      "37       5      6         Y   21.000000              449\n",
      "38      28     10         N  250.000000              310\n",
      "39      25      8         N   53.000000              458\n",
      "40      10      2         N  102.000000              449\n",
      "41      39     10         N  333.333333              302\n",
      "42      15      7         N   97.000000              455\n",
      "43      34     10         N   83.333333              308\n",
      "44      14      6         N   99.000000              450\n",
      "45       3      4         N   66.000000              450\n",
      "46       7      8         Y   23.000000              451\n"
     ]
    }
   ],
   "source": [
    "result=pickle.load(open('C:/Users/yarru/OneDrive/Desktop/job/arm interview/tech_assess_sa_grad/tech_ass_sa_grad/TestResults.pickle','rb'))\n",
    "\n",
    "print(result)\n"
   ]
  },
  {
   "cell_type": "code",
   "execution_count": 4,
   "id": "9da0e2bc",
   "metadata": {},
   "outputs": [],
   "source": [
    "res=pd.DataFrame(result)"
   ]
  },
  {
   "cell_type": "code",
   "execution_count": 5,
   "id": "97a38b59",
   "metadata": {},
   "outputs": [
    {
     "data": {
      "text/html": [
       "<div>\n",
       "<style scoped>\n",
       "    .dataframe tbody tr th:only-of-type {\n",
       "        vertical-align: middle;\n",
       "    }\n",
       "\n",
       "    .dataframe tbody tr th {\n",
       "        vertical-align: top;\n",
       "    }\n",
       "\n",
       "    .dataframe thead th {\n",
       "        text-align: right;\n",
       "    }\n",
       "</style>\n",
       "<table border=\"1\" class=\"dataframe\">\n",
       "  <thead>\n",
       "    <tr style=\"text-align: right;\">\n",
       "      <th></th>\n",
       "      <th>TestId</th>\n",
       "      <th>Build</th>\n",
       "      <th>Optimised</th>\n",
       "      <th>Time (ms)</th>\n",
       "      <th>PeakMemory (MB)</th>\n",
       "    </tr>\n",
       "  </thead>\n",
       "  <tbody>\n",
       "    <tr>\n",
       "      <th>0</th>\n",
       "      <td>33</td>\n",
       "      <td>10</td>\n",
       "      <td>N</td>\n",
       "      <td>125.0</td>\n",
       "      <td>307</td>\n",
       "    </tr>\n",
       "    <tr>\n",
       "      <th>1</th>\n",
       "      <td>43</td>\n",
       "      <td>10</td>\n",
       "      <td>Y</td>\n",
       "      <td>50.0</td>\n",
       "      <td>50</td>\n",
       "    </tr>\n",
       "    <tr>\n",
       "      <th>2</th>\n",
       "      <td>36</td>\n",
       "      <td>10</td>\n",
       "      <td>N</td>\n",
       "      <td>50.0</td>\n",
       "      <td>458</td>\n",
       "    </tr>\n",
       "    <tr>\n",
       "      <th>3</th>\n",
       "      <td>1</td>\n",
       "      <td>2</td>\n",
       "      <td>N</td>\n",
       "      <td>64.0</td>\n",
       "      <td>451</td>\n",
       "    </tr>\n",
       "    <tr>\n",
       "      <th>4</th>\n",
       "      <td>16</td>\n",
       "      <td>8</td>\n",
       "      <td>N</td>\n",
       "      <td>104.0</td>\n",
       "      <td>453</td>\n",
       "    </tr>\n",
       "  </tbody>\n",
       "</table>\n",
       "</div>"
      ],
      "text/plain": [
       "   TestId  Build Optimised  Time (ms)  PeakMemory (MB)\n",
       "0      33     10         N      125.0              307\n",
       "1      43     10         Y       50.0               50\n",
       "2      36     10         N       50.0              458\n",
       "3       1      2         N       64.0              451\n",
       "4      16      8         N      104.0              453"
      ]
     },
     "execution_count": 5,
     "metadata": {},
     "output_type": "execute_result"
    }
   ],
   "source": [
    "res.head()"
   ]
  },
  {
   "cell_type": "code",
   "execution_count": 6,
   "id": "9dec1e7b",
   "metadata": {},
   "outputs": [
    {
     "data": {
      "text/plain": [
       "Index(['TestId', 'Build', 'Optimised', 'Time (ms)', 'PeakMemory (MB)'], dtype='object')"
      ]
     },
     "execution_count": 6,
     "metadata": {},
     "output_type": "execute_result"
    }
   ],
   "source": [
    "res.columns"
   ]
  },
  {
   "cell_type": "code",
   "execution_count": 7,
   "id": "9c94fe4e",
   "metadata": {},
   "outputs": [
    {
     "data": {
      "text/plain": [
       "(47, 5)"
      ]
     },
     "execution_count": 7,
     "metadata": {},
     "output_type": "execute_result"
    }
   ],
   "source": [
    "res.shape"
   ]
  },
  {
   "cell_type": "code",
   "execution_count": 8,
   "id": "2461d236",
   "metadata": {},
   "outputs": [
    {
     "name": "stdout",
     "output_type": "stream",
     "text": [
      "<class 'pandas.core.frame.DataFrame'>\n",
      "RangeIndex: 47 entries, 0 to 46\n",
      "Data columns (total 5 columns):\n",
      " #   Column           Non-Null Count  Dtype  \n",
      "---  ------           --------------  -----  \n",
      " 0   TestId           47 non-null     int64  \n",
      " 1   Build            47 non-null     int64  \n",
      " 2   Optimised        47 non-null     object \n",
      " 3   Time (ms)        47 non-null     float64\n",
      " 4   PeakMemory (MB)  47 non-null     int64  \n",
      "dtypes: float64(1), int64(3), object(1)\n",
      "memory usage: 2.0+ KB\n"
     ]
    }
   ],
   "source": [
    "res.info()"
   ]
  },
  {
   "cell_type": "markdown",
   "id": "f16e4c15",
   "metadata": {},
   "source": [
    "## load the test info dataset"
   ]
  },
  {
   "cell_type": "code",
   "execution_count": 9,
   "id": "cbc9d814",
   "metadata": {},
   "outputs": [],
   "source": [
    "info=pd.read_csv(\"C:/Users/yarru/OneDrive/Desktop/job/arm interview/tech_assess_sa_grad/tech_ass_sa_grad/TestInfo.csv\",encoding=\"latin-1\")"
   ]
  },
  {
   "cell_type": "code",
   "execution_count": 10,
   "id": "53d5f522",
   "metadata": {},
   "outputs": [
    {
     "data": {
      "text/html": [
       "<div>\n",
       "<style scoped>\n",
       "    .dataframe tbody tr th:only-of-type {\n",
       "        vertical-align: middle;\n",
       "    }\n",
       "\n",
       "    .dataframe tbody tr th {\n",
       "        vertical-align: top;\n",
       "    }\n",
       "\n",
       "    .dataframe thead th {\n",
       "        text-align: right;\n",
       "    }\n",
       "</style>\n",
       "<table border=\"1\" class=\"dataframe\">\n",
       "  <thead>\n",
       "    <tr style=\"text-align: right;\">\n",
       "      <th></th>\n",
       "      <th>TestId</th>\n",
       "      <th>Device</th>\n",
       "      <th>CPUFrequency (MHz)</th>\n",
       "      <th>Threads</th>\n",
       "      <th>MLNetwork</th>\n",
       "    </tr>\n",
       "  </thead>\n",
       "  <tbody>\n",
       "    <tr>\n",
       "      <th>0</th>\n",
       "      <td>17</td>\n",
       "      <td>Device_0</td>\n",
       "      <td>1000</td>\n",
       "      <td>5</td>\n",
       "      <td>AlexNet</td>\n",
       "    </tr>\n",
       "    <tr>\n",
       "      <th>1</th>\n",
       "      <td>16</td>\n",
       "      <td>Device_0</td>\n",
       "      <td>1000</td>\n",
       "      <td>5</td>\n",
       "      <td>AlexNet</td>\n",
       "    </tr>\n",
       "    <tr>\n",
       "      <th>2</th>\n",
       "      <td>39</td>\n",
       "      <td>Device_1</td>\n",
       "      <td>1000</td>\n",
       "      <td>3</td>\n",
       "      <td>AlexNet</td>\n",
       "    </tr>\n",
       "    <tr>\n",
       "      <th>3</th>\n",
       "      <td>31</td>\n",
       "      <td>Device_0</td>\n",
       "      <td>1000</td>\n",
       "      <td>5</td>\n",
       "      <td>AlexNet</td>\n",
       "    </tr>\n",
       "    <tr>\n",
       "      <th>4</th>\n",
       "      <td>30</td>\n",
       "      <td>Device_0</td>\n",
       "      <td>1000</td>\n",
       "      <td>4</td>\n",
       "      <td>AlexNet</td>\n",
       "    </tr>\n",
       "  </tbody>\n",
       "</table>\n",
       "</div>"
      ],
      "text/plain": [
       "   TestId    Device  CPUFrequency (MHz)  Threads MLNetwork\n",
       "0      17  Device_0                1000        5   AlexNet\n",
       "1      16  Device_0                1000        5   AlexNet\n",
       "2      39  Device_1                1000        3   AlexNet\n",
       "3      31  Device_0                1000        5   AlexNet\n",
       "4      30  Device_0                1000        4   AlexNet"
      ]
     },
     "execution_count": 10,
     "metadata": {},
     "output_type": "execute_result"
    }
   ],
   "source": [
    "info.head()"
   ]
  },
  {
   "cell_type": "code",
   "execution_count": 11,
   "id": "06c4f892",
   "metadata": {},
   "outputs": [
    {
     "data": {
      "text/plain": [
       "Index(['TestId', 'Device', 'CPUFrequency (MHz)', 'Threads', 'MLNetwork'], dtype='object')"
      ]
     },
     "execution_count": 11,
     "metadata": {},
     "output_type": "execute_result"
    }
   ],
   "source": [
    "info.columns"
   ]
  },
  {
   "cell_type": "code",
   "execution_count": 12,
   "id": "d8826ab6",
   "metadata": {},
   "outputs": [
    {
     "data": {
      "text/plain": [
       "(47, 5)"
      ]
     },
     "execution_count": 12,
     "metadata": {},
     "output_type": "execute_result"
    }
   ],
   "source": [
    "info.shape"
   ]
  },
  {
   "cell_type": "code",
   "execution_count": 13,
   "id": "ab487791",
   "metadata": {},
   "outputs": [
    {
     "name": "stdout",
     "output_type": "stream",
     "text": [
      "<class 'pandas.core.frame.DataFrame'>\n",
      "RangeIndex: 47 entries, 0 to 46\n",
      "Data columns (total 5 columns):\n",
      " #   Column              Non-Null Count  Dtype \n",
      "---  ------              --------------  ----- \n",
      " 0   TestId              47 non-null     int64 \n",
      " 1   Device              47 non-null     object\n",
      " 2   CPUFrequency (MHz)  47 non-null     int64 \n",
      " 3   Threads             47 non-null     int64 \n",
      " 4   MLNetwork           47 non-null     object\n",
      "dtypes: int64(3), object(2)\n",
      "memory usage: 2.0+ KB\n"
     ]
    }
   ],
   "source": [
    "info.info()"
   ]
  },
  {
   "cell_type": "code",
   "execution_count": 14,
   "id": "a53ce848",
   "metadata": {},
   "outputs": [
    {
     "data": {
      "text/plain": [
       "False    47\n",
       "dtype: int64"
      ]
     },
     "execution_count": 14,
     "metadata": {},
     "output_type": "execute_result"
    }
   ],
   "source": [
    "info.duplicated().value_counts()"
   ]
  },
  {
   "cell_type": "code",
   "execution_count": 15,
   "id": "ebf6b0c6",
   "metadata": {},
   "outputs": [
    {
     "data": {
      "text/plain": [
       "False    47\n",
       "dtype: int64"
      ]
     },
     "execution_count": 15,
     "metadata": {},
     "output_type": "execute_result"
    }
   ],
   "source": [
    "res.duplicated().value_counts()"
   ]
  },
  {
   "cell_type": "markdown",
   "id": "941b7402",
   "metadata": {},
   "source": [
    "## check unique values of categorical and discrete variables"
   ]
  },
  {
   "cell_type": "code",
   "execution_count": 16,
   "id": "e5ac4545",
   "metadata": {},
   "outputs": [
    {
     "data": {
      "text/plain": [
       "array(['Device_0', 'Device_1'], dtype=object)"
      ]
     },
     "execution_count": 16,
     "metadata": {},
     "output_type": "execute_result"
    }
   ],
   "source": [
    "info['Device'].unique()"
   ]
  },
  {
   "cell_type": "code",
   "execution_count": 17,
   "id": "09d037ea",
   "metadata": {},
   "outputs": [
    {
     "data": {
      "text/plain": [
       "array([1000, 2000], dtype=int64)"
      ]
     },
     "execution_count": 17,
     "metadata": {},
     "output_type": "execute_result"
    }
   ],
   "source": [
    "info['CPUFrequency (MHz)'].unique()"
   ]
  },
  {
   "cell_type": "code",
   "execution_count": 18,
   "id": "025f0e4b",
   "metadata": {},
   "outputs": [
    {
     "data": {
      "text/plain": [
       "array([5, 3, 4, 1, 2], dtype=int64)"
      ]
     },
     "execution_count": 18,
     "metadata": {},
     "output_type": "execute_result"
    }
   ],
   "source": [
    "info['Threads'].unique()"
   ]
  },
  {
   "cell_type": "code",
   "execution_count": 19,
   "id": "047cb803",
   "metadata": {},
   "outputs": [
    {
     "data": {
      "text/plain": [
       "array(['AlexNet', 'MobileNet'], dtype=object)"
      ]
     },
     "execution_count": 19,
     "metadata": {},
     "output_type": "execute_result"
    }
   ],
   "source": [
    "info['MLNetwork'].unique()"
   ]
  },
  {
   "cell_type": "code",
   "execution_count": 20,
   "id": "1fd049e9",
   "metadata": {},
   "outputs": [
    {
     "data": {
      "text/plain": [
       "array([10,  2,  8,  9,  5,  7,  1,  4,  3,  6], dtype=int64)"
      ]
     },
     "execution_count": 20,
     "metadata": {},
     "output_type": "execute_result"
    }
   ],
   "source": [
    "res['Build'].unique()"
   ]
  },
  {
   "cell_type": "code",
   "execution_count": 21,
   "id": "216315c4",
   "metadata": {},
   "outputs": [],
   "source": [
    "info1=info.copy()"
   ]
  },
  {
   "cell_type": "code",
   "execution_count": 22,
   "id": "8c101732",
   "metadata": {},
   "outputs": [],
   "source": [
    "info1['Device']=info[\"Device\"].astype(str).str[-1].astype('int64')"
   ]
  },
  {
   "cell_type": "code",
   "execution_count": null,
   "id": "81ab7b75",
   "metadata": {},
   "outputs": [],
   "source": []
  },
  {
   "cell_type": "code",
   "execution_count": 23,
   "id": "2b344348",
   "metadata": {},
   "outputs": [
    {
     "data": {
      "text/html": [
       "<div>\n",
       "<style scoped>\n",
       "    .dataframe tbody tr th:only-of-type {\n",
       "        vertical-align: middle;\n",
       "    }\n",
       "\n",
       "    .dataframe tbody tr th {\n",
       "        vertical-align: top;\n",
       "    }\n",
       "\n",
       "    .dataframe thead th {\n",
       "        text-align: right;\n",
       "    }\n",
       "</style>\n",
       "<table border=\"1\" class=\"dataframe\">\n",
       "  <thead>\n",
       "    <tr style=\"text-align: right;\">\n",
       "      <th></th>\n",
       "      <th>TestId</th>\n",
       "      <th>Device</th>\n",
       "      <th>CPUFrequency (MHz)</th>\n",
       "      <th>Threads</th>\n",
       "      <th>MLNetwork</th>\n",
       "    </tr>\n",
       "  </thead>\n",
       "  <tbody>\n",
       "    <tr>\n",
       "      <th>0</th>\n",
       "      <td>17</td>\n",
       "      <td>0</td>\n",
       "      <td>1000</td>\n",
       "      <td>5</td>\n",
       "      <td>AlexNet</td>\n",
       "    </tr>\n",
       "    <tr>\n",
       "      <th>1</th>\n",
       "      <td>16</td>\n",
       "      <td>0</td>\n",
       "      <td>1000</td>\n",
       "      <td>5</td>\n",
       "      <td>AlexNet</td>\n",
       "    </tr>\n",
       "    <tr>\n",
       "      <th>2</th>\n",
       "      <td>39</td>\n",
       "      <td>1</td>\n",
       "      <td>1000</td>\n",
       "      <td>3</td>\n",
       "      <td>AlexNet</td>\n",
       "    </tr>\n",
       "    <tr>\n",
       "      <th>3</th>\n",
       "      <td>31</td>\n",
       "      <td>0</td>\n",
       "      <td>1000</td>\n",
       "      <td>5</td>\n",
       "      <td>AlexNet</td>\n",
       "    </tr>\n",
       "    <tr>\n",
       "      <th>4</th>\n",
       "      <td>30</td>\n",
       "      <td>0</td>\n",
       "      <td>1000</td>\n",
       "      <td>4</td>\n",
       "      <td>AlexNet</td>\n",
       "    </tr>\n",
       "  </tbody>\n",
       "</table>\n",
       "</div>"
      ],
      "text/plain": [
       "   TestId  Device  CPUFrequency (MHz)  Threads MLNetwork\n",
       "0      17       0                1000        5   AlexNet\n",
       "1      16       0                1000        5   AlexNet\n",
       "2      39       1                1000        3   AlexNet\n",
       "3      31       0                1000        5   AlexNet\n",
       "4      30       0                1000        4   AlexNet"
      ]
     },
     "execution_count": 23,
     "metadata": {},
     "output_type": "execute_result"
    }
   ],
   "source": [
    "info1.head()"
   ]
  },
  {
   "cell_type": "code",
   "execution_count": 24,
   "id": "7af9d2e3",
   "metadata": {},
   "outputs": [],
   "source": [
    "final = info1.merge(res, how='left')"
   ]
  },
  {
   "cell_type": "code",
   "execution_count": 25,
   "id": "a06447b7",
   "metadata": {},
   "outputs": [
    {
     "data": {
      "text/html": [
       "<div>\n",
       "<style scoped>\n",
       "    .dataframe tbody tr th:only-of-type {\n",
       "        vertical-align: middle;\n",
       "    }\n",
       "\n",
       "    .dataframe tbody tr th {\n",
       "        vertical-align: top;\n",
       "    }\n",
       "\n",
       "    .dataframe thead th {\n",
       "        text-align: right;\n",
       "    }\n",
       "</style>\n",
       "<table border=\"1\" class=\"dataframe\">\n",
       "  <thead>\n",
       "    <tr style=\"text-align: right;\">\n",
       "      <th></th>\n",
       "      <th>TestId</th>\n",
       "      <th>Device</th>\n",
       "      <th>CPUFrequency (MHz)</th>\n",
       "      <th>Threads</th>\n",
       "      <th>MLNetwork</th>\n",
       "      <th>Build</th>\n",
       "      <th>Optimised</th>\n",
       "      <th>Time (ms)</th>\n",
       "      <th>PeakMemory (MB)</th>\n",
       "    </tr>\n",
       "  </thead>\n",
       "  <tbody>\n",
       "    <tr>\n",
       "      <th>0</th>\n",
       "      <td>17</td>\n",
       "      <td>0</td>\n",
       "      <td>1000</td>\n",
       "      <td>5</td>\n",
       "      <td>AlexNet</td>\n",
       "      <td>9</td>\n",
       "      <td>N</td>\n",
       "      <td>102.000000</td>\n",
       "      <td>449</td>\n",
       "    </tr>\n",
       "    <tr>\n",
       "      <th>1</th>\n",
       "      <td>16</td>\n",
       "      <td>0</td>\n",
       "      <td>1000</td>\n",
       "      <td>5</td>\n",
       "      <td>AlexNet</td>\n",
       "      <td>8</td>\n",
       "      <td>N</td>\n",
       "      <td>104.000000</td>\n",
       "      <td>453</td>\n",
       "    </tr>\n",
       "    <tr>\n",
       "      <th>2</th>\n",
       "      <td>39</td>\n",
       "      <td>1</td>\n",
       "      <td>1000</td>\n",
       "      <td>3</td>\n",
       "      <td>AlexNet</td>\n",
       "      <td>10</td>\n",
       "      <td>N</td>\n",
       "      <td>333.333333</td>\n",
       "      <td>302</td>\n",
       "    </tr>\n",
       "    <tr>\n",
       "      <th>3</th>\n",
       "      <td>31</td>\n",
       "      <td>0</td>\n",
       "      <td>1000</td>\n",
       "      <td>5</td>\n",
       "      <td>AlexNet</td>\n",
       "      <td>10</td>\n",
       "      <td>N</td>\n",
       "      <td>100.000000</td>\n",
       "      <td>449</td>\n",
       "    </tr>\n",
       "    <tr>\n",
       "      <th>4</th>\n",
       "      <td>30</td>\n",
       "      <td>0</td>\n",
       "      <td>1000</td>\n",
       "      <td>4</td>\n",
       "      <td>AlexNet</td>\n",
       "      <td>10</td>\n",
       "      <td>N</td>\n",
       "      <td>125.000000</td>\n",
       "      <td>450</td>\n",
       "    </tr>\n",
       "  </tbody>\n",
       "</table>\n",
       "</div>"
      ],
      "text/plain": [
       "   TestId  Device  CPUFrequency (MHz)  Threads MLNetwork  Build Optimised  \\\n",
       "0      17       0                1000        5   AlexNet      9         N   \n",
       "1      16       0                1000        5   AlexNet      8         N   \n",
       "2      39       1                1000        3   AlexNet     10         N   \n",
       "3      31       0                1000        5   AlexNet     10         N   \n",
       "4      30       0                1000        4   AlexNet     10         N   \n",
       "\n",
       "    Time (ms)  PeakMemory (MB)  \n",
       "0  102.000000              449  \n",
       "1  104.000000              453  \n",
       "2  333.333333              302  \n",
       "3  100.000000              449  \n",
       "4  125.000000              450  "
      ]
     },
     "execution_count": 25,
     "metadata": {},
     "output_type": "execute_result"
    }
   ],
   "source": [
    "final.head()"
   ]
  },
  {
   "cell_type": "markdown",
   "id": "a617fe04",
   "metadata": {},
   "source": [
    "### check if any pair of variables are highly correlated"
   ]
  },
  {
   "cell_type": "code",
   "execution_count": 26,
   "id": "6deb49e8",
   "metadata": {},
   "outputs": [
    {
     "data": {
      "text/html": [
       "<div>\n",
       "<style scoped>\n",
       "    .dataframe tbody tr th:only-of-type {\n",
       "        vertical-align: middle;\n",
       "    }\n",
       "\n",
       "    .dataframe tbody tr th {\n",
       "        vertical-align: top;\n",
       "    }\n",
       "\n",
       "    .dataframe thead th {\n",
       "        text-align: right;\n",
       "    }\n",
       "</style>\n",
       "<table border=\"1\" class=\"dataframe\">\n",
       "  <thead>\n",
       "    <tr style=\"text-align: right;\">\n",
       "      <th></th>\n",
       "      <th>TestId</th>\n",
       "      <th>Device</th>\n",
       "      <th>CPUFrequency (MHz)</th>\n",
       "      <th>Threads</th>\n",
       "      <th>Build</th>\n",
       "      <th>Time (ms)</th>\n",
       "      <th>PeakMemory (MB)</th>\n",
       "    </tr>\n",
       "  </thead>\n",
       "  <tbody>\n",
       "    <tr>\n",
       "      <th>TestId</th>\n",
       "      <td>1.000000</td>\n",
       "      <td>0.406978</td>\n",
       "      <td>0.157771</td>\n",
       "      <td>-0.579923</td>\n",
       "      <td>0.761143</td>\n",
       "      <td>0.353702</td>\n",
       "      <td>-0.674047</td>\n",
       "    </tr>\n",
       "    <tr>\n",
       "      <th>Device</th>\n",
       "      <td>0.406978</td>\n",
       "      <td>1.000000</td>\n",
       "      <td>-0.224733</td>\n",
       "      <td>-0.293132</td>\n",
       "      <td>0.314324</td>\n",
       "      <td>0.673641</td>\n",
       "      <td>-0.060143</td>\n",
       "    </tr>\n",
       "    <tr>\n",
       "      <th>CPUFrequency (MHz)</th>\n",
       "      <td>0.157771</td>\n",
       "      <td>-0.224733</td>\n",
       "      <td>1.000000</td>\n",
       "      <td>0.065877</td>\n",
       "      <td>-0.070639</td>\n",
       "      <td>-0.165940</td>\n",
       "      <td>0.218062</td>\n",
       "    </tr>\n",
       "    <tr>\n",
       "      <th>Threads</th>\n",
       "      <td>-0.579923</td>\n",
       "      <td>-0.293132</td>\n",
       "      <td>0.065877</td>\n",
       "      <td>1.000000</td>\n",
       "      <td>-0.573307</td>\n",
       "      <td>-0.656911</td>\n",
       "      <td>0.661878</td>\n",
       "    </tr>\n",
       "    <tr>\n",
       "      <th>Build</th>\n",
       "      <td>0.761143</td>\n",
       "      <td>0.314324</td>\n",
       "      <td>-0.070639</td>\n",
       "      <td>-0.573307</td>\n",
       "      <td>1.000000</td>\n",
       "      <td>0.365650</td>\n",
       "      <td>-0.509534</td>\n",
       "    </tr>\n",
       "    <tr>\n",
       "      <th>Time (ms)</th>\n",
       "      <td>0.353702</td>\n",
       "      <td>0.673641</td>\n",
       "      <td>-0.165940</td>\n",
       "      <td>-0.656911</td>\n",
       "      <td>0.365650</td>\n",
       "      <td>1.000000</td>\n",
       "      <td>-0.140048</td>\n",
       "    </tr>\n",
       "    <tr>\n",
       "      <th>PeakMemory (MB)</th>\n",
       "      <td>-0.674047</td>\n",
       "      <td>-0.060143</td>\n",
       "      <td>0.218062</td>\n",
       "      <td>0.661878</td>\n",
       "      <td>-0.509534</td>\n",
       "      <td>-0.140048</td>\n",
       "      <td>1.000000</td>\n",
       "    </tr>\n",
       "  </tbody>\n",
       "</table>\n",
       "</div>"
      ],
      "text/plain": [
       "                      TestId    Device  CPUFrequency (MHz)   Threads  \\\n",
       "TestId              1.000000  0.406978            0.157771 -0.579923   \n",
       "Device              0.406978  1.000000           -0.224733 -0.293132   \n",
       "CPUFrequency (MHz)  0.157771 -0.224733            1.000000  0.065877   \n",
       "Threads            -0.579923 -0.293132            0.065877  1.000000   \n",
       "Build               0.761143  0.314324           -0.070639 -0.573307   \n",
       "Time (ms)           0.353702  0.673641           -0.165940 -0.656911   \n",
       "PeakMemory (MB)    -0.674047 -0.060143            0.218062  0.661878   \n",
       "\n",
       "                       Build  Time (ms)  PeakMemory (MB)  \n",
       "TestId              0.761143   0.353702        -0.674047  \n",
       "Device              0.314324   0.673641        -0.060143  \n",
       "CPUFrequency (MHz) -0.070639  -0.165940         0.218062  \n",
       "Threads            -0.573307  -0.656911         0.661878  \n",
       "Build               1.000000   0.365650        -0.509534  \n",
       "Time (ms)           0.365650   1.000000        -0.140048  \n",
       "PeakMemory (MB)    -0.509534  -0.140048         1.000000  "
      ]
     },
     "execution_count": 26,
     "metadata": {},
     "output_type": "execute_result"
    }
   ],
   "source": [
    "final.corr()"
   ]
  },
  {
   "cell_type": "markdown",
   "id": "08202d6c",
   "metadata": {},
   "source": [
    "# DATA VISUALIZATION"
   ]
  },
  {
   "cell_type": "markdown",
   "id": "be3c89bd",
   "metadata": {},
   "source": [
    "## Univariate analysis"
   ]
  },
  {
   "cell_type": "code",
   "execution_count": 46,
   "id": "86dbf548",
   "metadata": {},
   "outputs": [
    {
     "data": {
      "text/plain": [
       "Text(0, 0.5, 'number of tests')"
      ]
     },
     "execution_count": 46,
     "metadata": {},
     "output_type": "execute_result"
    },
    {
     "data": {
      "image/png": "[encoded data removed]",
      "text/plain": [
       "<Figure size 640x480 with 1 Axes>"
      ]
     },
     "metadata": {},
     "output_type": "display_data"
    }
   ],
   "source": [
    "final.Device.value_counts().sort_index().plot.bar()\n",
    "plt.xlabel(\"Device\")\n",
    "plt.ylabel(\"number of tests\")"
   ]
  },
  {
   "cell_type": "code",
   "execution_count": 28,
   "id": "8d1bed1e",
   "metadata": {},
   "outputs": [
    {
     "data": {
      "text/plain": [
       "<AxesSubplot:>"
      ]
     },
     "execution_count": 28,
     "metadata": {},
     "output_type": "execute_result"
    },
    {
     "data": {
      "image/png": "[encoded data removed]",
      "text/plain": [
       "<Figure size 640x480 with 1 Axes>"
      ]
     },
     "metadata": {},
     "output_type": "display_data"
    }
   ],
   "source": [
    "final['CPUFrequency (MHz)'].value_counts().sort_index().plot.bar()"
   ]
  },
  {
   "cell_type": "code",
   "execution_count": 48,
   "id": "85aa2d3a",
   "metadata": {},
   "outputs": [
    {
     "data": {
      "text/plain": [
       "Text(0, 0.5, 'number of tests')"
      ]
     },
     "execution_count": 48,
     "metadata": {},
     "output_type": "execute_result"
    },
    {
     "data": {
      "image/png": "[encoded data removed]",
      "text/plain": [
       "<Figure size 640x480 with 1 Axes>"
      ]
     },
     "metadata": {},
     "output_type": "display_data"
    }
   ],
   "source": [
    "final.Threads.value_counts().sort_index().plot.bar()\n",
    "plt.xlabel(\"Threads\")\n",
    "plt.ylabel(\"number of tests\")"
   ]
  },
  {
   "cell_type": "code",
   "execution_count": 43,
   "id": "f70bb0aa",
   "metadata": {},
   "outputs": [
    {
     "data": {
      "text/plain": [
       "<AxesSubplot:>"
      ]
     },
     "execution_count": 43,
     "metadata": {},
     "output_type": "execute_result"
    },
    {
     "data": {
      "image/png": "[encoded data removed]",
      "text/plain": [
       "<Figure size 640x480 with 1 Axes>"
      ]
     },
     "metadata": {},
     "output_type": "display_data"
    }
   ],
   "source": [
    "final.Optimised.value_counts().sort_index().plot.bar()"
   ]
  },
  {
   "cell_type": "code",
   "execution_count": 49,
   "id": "b3549ae7",
   "metadata": {},
   "outputs": [
    {
     "data": {
      "text/plain": [
       "Text(0, 0.5, 'number of tests')"
      ]
     },
     "execution_count": 49,
     "metadata": {},
     "output_type": "execute_result"
    },
    {
     "data": {
      "image/png": "[encoded data removed]",
      "text/plain": [
       "<Figure size 640x480 with 1 Axes>"
      ]
     },
     "metadata": {},
     "output_type": "display_data"
    }
   ],
   "source": [
    "final.Build.value_counts().sort_index().plot.bar()\n",
    "plt.xlabel(\"Build type\")\n",
    "plt.ylabel(\"number of tests\")"
   ]
  },
  {
   "cell_type": "code",
   "execution_count": 31,
   "id": "98fb7fce",
   "metadata": {},
   "outputs": [
    {
     "data": {
      "text/plain": [
       "<AxesSubplot:>"
      ]
     },
     "execution_count": 31,
     "metadata": {},
     "output_type": "execute_result"
    },
    {
     "data": {
      "image/png": "[encoded data removed]",
      "text/plain": [
       "<Figure size 640x480 with 1 Axes>"
      ]
     },
     "metadata": {},
     "output_type": "display_data"
    }
   ],
   "source": [
    "final.MLNetwork.value_counts().sort_index().plot.bar()"
   ]
  },
  {
   "cell_type": "markdown",
   "id": "b75a1567",
   "metadata": {},
   "source": [
    "## Multivariate analysis"
   ]
  },
  {
   "cell_type": "code",
   "execution_count": 32,
   "id": "3d36fc9d",
   "metadata": {},
   "outputs": [
    {
     "data": {
      "text/plain": [
       "<AxesSubplot:xlabel='CPUFrequency (MHz)', ylabel='Time (ms)'>"
      ]
     },
     "execution_count": 32,
     "metadata": {},
     "output_type": "execute_result"
    },
    {
     "data": {
      "image/png": "[encoded data removed]",
      "text/plain": [
       "<Figure size 640x480 with 1 Axes>"
      ]
     },
     "metadata": {},
     "output_type": "display_data"
    }
   ],
   "source": [
    "sns.boxplot(x='CPUFrequency (MHz)',y='Time (ms)',data=final)"
   ]
  },
  {
   "cell_type": "code",
   "execution_count": 33,
   "id": "7b3ec1eb",
   "metadata": {},
   "outputs": [
    {
     "data": {
      "text/plain": [
       "<AxesSubplot:xlabel='CPUFrequency (MHz)', ylabel='PeakMemory (MB)'>"
      ]
     },
     "execution_count": 33,
     "metadata": {},
     "output_type": "execute_result"
    },
    {
     "data": {
      "image/png": "[encoded data removed]",
      "text/plain": [
       "<Figure size 640x480 with 1 Axes>"
      ]
     },
     "metadata": {},
     "output_type": "display_data"
    }
   ],
   "source": [
    "sns.boxplot(x='CPUFrequency (MHz)',y='PeakMemory (MB)',data=final)"
   ]
  },
  {
   "cell_type": "code",
   "execution_count": 34,
   "id": "eeecd5e0",
   "metadata": {},
   "outputs": [
    {
     "data": {
      "text/plain": [
       "<AxesSubplot:xlabel='Threads', ylabel='PeakMemory (MB)'>"
      ]
     },
     "execution_count": 34,
     "metadata": {},
     "output_type": "execute_result"
    },
    {
     "data": {
      "image/png": "[encoded data removed]",
      "text/plain": [
       "<Figure size 640x480 with 1 Axes>"
      ]
     },
     "metadata": {},
     "output_type": "display_data"
    }
   ],
   "source": [
    "sns.boxplot(x='Threads',y='PeakMemory (MB)',data=final)"
   ]
  },
  {
   "cell_type": "code",
   "execution_count": 35,
   "id": "6471f974",
   "metadata": {},
   "outputs": [
    {
     "data": {
      "text/plain": [
       "<AxesSubplot:xlabel='Threads', ylabel='Time (ms)'>"
      ]
     },
     "execution_count": 35,
     "metadata": {},
     "output_type": "execute_result"
    },
    {
     "data": {
      "image/png": "[encoded data removed]",
      "text/plain": [
       "<Figure size 640x480 with 1 Axes>"
      ]
     },
     "metadata": {},
     "output_type": "display_data"
    }
   ],
   "source": [
    "sns.boxplot(x='Threads',y='Time (ms)',data=final)"
   ]
  },
  {
   "cell_type": "code",
   "execution_count": 36,
   "id": "3ac9d81d",
   "metadata": {},
   "outputs": [
    {
     "data": {
      "text/plain": [
       "<AxesSubplot:xlabel='MLNetwork', ylabel='Time (ms)'>"
      ]
     },
     "execution_count": 36,
     "metadata": {},
     "output_type": "execute_result"
    },
    {
     "data": {
      "image/png": "[encoded data removed]",
      "text/plain": [
       "<Figure size 640x480 with 1 Axes>"
      ]
     },
     "metadata": {},
     "output_type": "display_data"
    }
   ],
   "source": [
    "sns.boxplot(x='MLNetwork',y='Time (ms)',data=final)"
   ]
  },
  {
   "cell_type": "code",
   "execution_count": 37,
   "id": "70c0f960",
   "metadata": {},
   "outputs": [
    {
     "data": {
      "text/plain": [
       "<AxesSubplot:xlabel='MLNetwork', ylabel='PeakMemory (MB)'>"
      ]
     },
     "execution_count": 37,
     "metadata": {},
     "output_type": "execute_result"
    },
    {
     "data": {
      "image/png": "[encoded data removed]",
      "text/plain": [
       "<Figure size 640x480 with 1 Axes>"
      ]
     },
     "metadata": {},
     "output_type": "display_data"
    }
   ],
   "source": [
    "sns.boxplot(x='MLNetwork',y='PeakMemory (MB)',data=final)"
   ]
  },
  {
   "cell_type": "code",
   "execution_count": 38,
   "id": "cfd0b7af",
   "metadata": {},
   "outputs": [
    {
     "data": {
      "text/plain": [
       "<AxesSubplot:xlabel='MLNetwork', ylabel='PeakMemory (MB)'>"
      ]
     },
     "execution_count": 38,
     "metadata": {},
     "output_type": "execute_result"
    },
    {
     "data": {
      "image/png": "[encoded data removed]",
      "text/plain": [
       "<Figure size 640x480 with 1 Axes>"
      ]
     },
     "metadata": {},
     "output_type": "display_data"
    }
   ],
   "source": [
    "sns.boxplot(x='MLNetwork',y='PeakMemory (MB)',data=final[final['Threads']==1])"
   ]
  },
  {
   "cell_type": "code",
   "execution_count": 39,
   "id": "0e173f0e",
   "metadata": {},
   "outputs": [
    {
     "data": {
      "text/plain": [
       "<AxesSubplot:xlabel='Build', ylabel='PeakMemory (MB)'>"
      ]
     },
     "execution_count": 39,
     "metadata": {},
     "output_type": "execute_result"
    },
    {
     "data": {
      "image/png": "[encoded data removed]",
      "text/plain": [
       "<Figure size 640x480 with 1 Axes>"
      ]
     },
     "metadata": {},
     "output_type": "display_data"
    }
   ],
   "source": [
    "sns.boxplot(x='Build',y='PeakMemory (MB)',data=final)"
   ]
  },
  {
   "cell_type": "code",
   "execution_count": 40,
   "id": "09a111c2",
   "metadata": {},
   "outputs": [
    {
     "data": {
      "text/plain": [
       "<AxesSubplot:xlabel='Build', ylabel='Time (ms)'>"
      ]
     },
     "execution_count": 40,
     "metadata": {},
     "output_type": "execute_result"
    },
    {
     "data": {
      "image/png": "[encoded data removed]",
      "text/plain": [
       "<Figure size 640x480 with 1 Axes>"
      ]
     },
     "metadata": {},
     "output_type": "display_data"
    }
   ],
   "source": [
    "sns.boxplot(x='Build',y='Time (ms)',data=final)"
   ]
  },
  {
   "cell_type": "code",
   "execution_count": 123,
   "id": "129a9bfa",
   "metadata": {},
   "outputs": [
    {
     "data": {
      "text/plain": [
       "<AxesSubplot:xlabel='PeakMemory (MB)', ylabel='Time (ms)'>"
      ]
     },
     "execution_count": 123,
     "metadata": {},
     "output_type": "execute_result"
    },
    {
     "data": {
      "image/png": "[encoded data removed]",
      "text/plain": [
       "<Figure size 640x480 with 1 Axes>"
      ]
     },
     "metadata": {},
     "output_type": "display_data"
    }
   ],
   "source": [
    "sns.scatterplot(x='PeakMemory (MB)',y='Time (ms)',data=final[final['Threads']==3])"
   ]
  },
  {
   "cell_type": "code",
   "execution_count": 116,
   "id": "15aa5372",
   "metadata": {},
   "outputs": [
    {
     "data": {
      "text/plain": [
       "<AxesSubplot:xlabel='PeakMemory (MB)', ylabel='Time (ms)'>"
      ]
     },
     "execution_count": 116,
     "metadata": {},
     "output_type": "execute_result"
    },
    {
     "data": {
      "image/png": "[encoded data removed]",
      "text/plain": [
       "<Figure size 640x480 with 1 Axes>"
      ]
     },
     "metadata": {},
     "output_type": "display_data"
    }
   ],
   "source": [
    "sns.scatterplot(x='PeakMemory (MB)',y='Time (ms)',data=final)"
   ]
  },
  {
   "cell_type": "code",
   "execution_count": 90,
   "id": "0d4dbdb0",
   "metadata": {},
   "outputs": [
    {
     "data": {
      "text/plain": [
       "<seaborn.axisgrid.FacetGrid at 0x19af8eaa430>"
      ]
     },
     "execution_count": 90,
     "metadata": {},
     "output_type": "execute_result"
    },
    {
     "data": {
      "image/png": "[encoded data removed]",
      "text/plain": [
       "<Figure size 582.111x500 with 1 Axes>"
      ]
     },
     "metadata": {},
     "output_type": "display_data"
    }
   ],
   "source": [
    "sns.catplot(x='Threads',hue='Optimised',data=final,kind=\"count\")"
   ]
  },
  {
   "cell_type": "code",
   "execution_count": 91,
   "id": "9074ea14",
   "metadata": {},
   "outputs": [
    {
     "data": {
      "text/plain": [
       "<seaborn.axisgrid.FacetGrid at 0x19af7cfd220>"
      ]
     },
     "execution_count": 91,
     "metadata": {},
     "output_type": "execute_result"
    },
    {
     "data": {
      "image/png": "[encoded data removed]",
      "text/plain": [
       "<Figure size 582.111x500 with 1 Axes>"
      ]
     },
     "metadata": {},
     "output_type": "display_data"
    }
   ],
   "source": [
    "sns.catplot(x='MLNetwork',hue='Optimised',data=final,kind=\"count\")"
   ]
  },
  {
   "cell_type": "code",
   "execution_count": 95,
   "id": "4ab021b0",
   "metadata": {},
   "outputs": [
    {
     "data": {
      "text/plain": [
       "<seaborn.axisgrid.FacetGrid at 0x19af9175970>"
      ]
     },
     "execution_count": 95,
     "metadata": {},
     "output_type": "execute_result"
    },
    {
     "data": {
      "image/png": "[encoded data removed]",
      "text/plain": [
       "<Figure size 582.111x500 with 1 Axes>"
      ]
     },
     "metadata": {},
     "output_type": "display_data"
    }
   ],
   "source": [
    "sns.catplot(x='Device',hue='Optimised',data=final,kind=\"count\")"
   ]
  },
  {
   "cell_type": "code",
   "execution_count": 98,
   "id": "1f95cc3b",
   "metadata": {},
   "outputs": [
    {
     "data": {
      "text/plain": [
       "<AxesSubplot:xlabel='Device', ylabel='PeakMemory (MB)'>"
      ]
     },
     "execution_count": 98,
     "metadata": {},
     "output_type": "execute_result"
    },
    {
     "data": {
      "image/png": "[encoded data removed]",
      "text/plain": [
       "<Figure size 640x480 with 1 Axes>"
      ]
     },
     "metadata": {},
     "output_type": "display_data"
    }
   ],
   "source": [
    "sns.boxplot(x='Device',y='PeakMemory (MB)',data=final)"
   ]
  },
  {
   "cell_type": "code",
   "execution_count": 99,
   "id": "2eee8c57",
   "metadata": {},
   "outputs": [
    {
     "data": {
      "text/plain": [
       "<AxesSubplot:xlabel='Device', ylabel='Time (ms)'>"
      ]
     },
     "execution_count": 99,
     "metadata": {},
     "output_type": "execute_result"
    },
    {
     "data": {
      "image/png": "[encoded data removed]",
      "text/plain": [
       "<Figure size 640x480 with 1 Axes>"
      ]
     },
     "metadata": {},
     "output_type": "display_data"
    }
   ],
   "source": [
    "sns.boxplot(x='Device',y='Time (ms)',data=final)"
   ]
  },
  {
   "cell_type": "code",
   "execution_count": 41,
   "id": "f747cd08",
   "metadata": {},
   "outputs": [
    {
     "data": {
      "text/plain": [
       "<AxesSubplot:xlabel='Optimised', ylabel='Time (ms)'>"
      ]
     },
     "execution_count": 41,
     "metadata": {},
     "output_type": "execute_result"
    },
    {
     "data": {
      "image/png": "[encoded data removed]",
      "text/plain": [
       "<Figure size 640x480 with 1 Axes>"
      ]
     },
     "metadata": {},
     "output_type": "display_data"
    }
   ],
   "source": [
    "sns.boxplot(x='Optimised',y='Time (ms)',data=final)"
   ]
  },
  {
   "cell_type": "code",
   "execution_count": 42,
   "id": "18a8cb01",
   "metadata": {},
   "outputs": [
    {
     "data": {
      "text/plain": [
       "<AxesSubplot:xlabel='Optimised', ylabel='PeakMemory (MB)'>"
      ]
     },
     "execution_count": 42,
     "metadata": {},
     "output_type": "execute_result"
    },
    {
     "data": {
      "image/png": "[encoded data removed]",
      "text/plain": [
       "<Figure size 640x480 with 1 Axes>"
      ]
     },
     "metadata": {},
     "output_type": "display_data"
    }
   ],
   "source": [
    "sns.boxplot(x='Optimised',y='PeakMemory (MB)',data=final)"
   ]
  },
  {
   "cell_type": "code",
   "execution_count": 97,
   "id": "70229cff",
   "metadata": {},
   "outputs": [
    {
     "data": {
      "text/html": [
       "<div>\n",
       "<style scoped>\n",
       "    .dataframe tbody tr th:only-of-type {\n",
       "        vertical-align: middle;\n",
       "    }\n",
       "\n",
       "    .dataframe tbody tr th {\n",
       "        vertical-align: top;\n",
       "    }\n",
       "\n",
       "    .dataframe thead th {\n",
       "        text-align: right;\n",
       "    }\n",
       "</style>\n",
       "<table border=\"1\" class=\"dataframe\">\n",
       "  <thead>\n",
       "    <tr style=\"text-align: right;\">\n",
       "      <th></th>\n",
       "      <th>TestId</th>\n",
       "      <th>Device</th>\n",
       "      <th>CPUFrequency (MHz)</th>\n",
       "      <th>Threads</th>\n",
       "      <th>MLNetwork</th>\n",
       "      <th>Build</th>\n",
       "      <th>Optimised</th>\n",
       "      <th>Time (ms)</th>\n",
       "      <th>PeakMemory (MB)</th>\n",
       "    </tr>\n",
       "  </thead>\n",
       "  <tbody>\n",
       "    <tr>\n",
       "      <th>0</th>\n",
       "      <td>17</td>\n",
       "      <td>0</td>\n",
       "      <td>1000</td>\n",
       "      <td>5</td>\n",
       "      <td>AlexNet</td>\n",
       "      <td>9</td>\n",
       "      <td>N</td>\n",
       "      <td>102.000000</td>\n",
       "      <td>449</td>\n",
       "    </tr>\n",
       "    <tr>\n",
       "      <th>1</th>\n",
       "      <td>16</td>\n",
       "      <td>0</td>\n",
       "      <td>1000</td>\n",
       "      <td>5</td>\n",
       "      <td>AlexNet</td>\n",
       "      <td>8</td>\n",
       "      <td>N</td>\n",
       "      <td>104.000000</td>\n",
       "      <td>453</td>\n",
       "    </tr>\n",
       "    <tr>\n",
       "      <th>2</th>\n",
       "      <td>39</td>\n",
       "      <td>1</td>\n",
       "      <td>1000</td>\n",
       "      <td>3</td>\n",
       "      <td>AlexNet</td>\n",
       "      <td>10</td>\n",
       "      <td>N</td>\n",
       "      <td>333.333333</td>\n",
       "      <td>302</td>\n",
       "    </tr>\n",
       "    <tr>\n",
       "      <th>3</th>\n",
       "      <td>31</td>\n",
       "      <td>0</td>\n",
       "      <td>1000</td>\n",
       "      <td>5</td>\n",
       "      <td>AlexNet</td>\n",
       "      <td>10</td>\n",
       "      <td>N</td>\n",
       "      <td>100.000000</td>\n",
       "      <td>449</td>\n",
       "    </tr>\n",
       "    <tr>\n",
       "      <th>4</th>\n",
       "      <td>30</td>\n",
       "      <td>0</td>\n",
       "      <td>1000</td>\n",
       "      <td>4</td>\n",
       "      <td>AlexNet</td>\n",
       "      <td>10</td>\n",
       "      <td>N</td>\n",
       "      <td>125.000000</td>\n",
       "      <td>450</td>\n",
       "    </tr>\n",
       "    <tr>\n",
       "      <th>5</th>\n",
       "      <td>25</td>\n",
       "      <td>0</td>\n",
       "      <td>2000</td>\n",
       "      <td>5</td>\n",
       "      <td>AlexNet</td>\n",
       "      <td>8</td>\n",
       "      <td>N</td>\n",
       "      <td>53.000000</td>\n",
       "      <td>458</td>\n",
       "    </tr>\n",
       "    <tr>\n",
       "      <th>6</th>\n",
       "      <td>45</td>\n",
       "      <td>0</td>\n",
       "      <td>1000</td>\n",
       "      <td>4</td>\n",
       "      <td>MobileNet</td>\n",
       "      <td>10</td>\n",
       "      <td>Y</td>\n",
       "      <td>25.000000</td>\n",
       "      <td>85</td>\n",
       "    </tr>\n",
       "    <tr>\n",
       "      <th>7</th>\n",
       "      <td>34</td>\n",
       "      <td>0</td>\n",
       "      <td>2000</td>\n",
       "      <td>3</td>\n",
       "      <td>AlexNet</td>\n",
       "      <td>10</td>\n",
       "      <td>N</td>\n",
       "      <td>83.333333</td>\n",
       "      <td>308</td>\n",
       "    </tr>\n",
       "    <tr>\n",
       "      <th>8</th>\n",
       "      <td>6</td>\n",
       "      <td>0</td>\n",
       "      <td>1000</td>\n",
       "      <td>5</td>\n",
       "      <td>MobileNet</td>\n",
       "      <td>7</td>\n",
       "      <td>Y</td>\n",
       "      <td>25.000000</td>\n",
       "      <td>450</td>\n",
       "    </tr>\n",
       "    <tr>\n",
       "      <th>9</th>\n",
       "      <td>27</td>\n",
       "      <td>0</td>\n",
       "      <td>1000</td>\n",
       "      <td>1</td>\n",
       "      <td>AlexNet</td>\n",
       "      <td>10</td>\n",
       "      <td>N</td>\n",
       "      <td>500.000000</td>\n",
       "      <td>300</td>\n",
       "    </tr>\n",
       "    <tr>\n",
       "      <th>10</th>\n",
       "      <td>46</td>\n",
       "      <td>0</td>\n",
       "      <td>1000</td>\n",
       "      <td>5</td>\n",
       "      <td>MobileNet</td>\n",
       "      <td>10</td>\n",
       "      <td>Y</td>\n",
       "      <td>20.000000</td>\n",
       "      <td>86</td>\n",
       "    </tr>\n",
       "    <tr>\n",
       "      <th>11</th>\n",
       "      <td>33</td>\n",
       "      <td>0</td>\n",
       "      <td>2000</td>\n",
       "      <td>2</td>\n",
       "      <td>AlexNet</td>\n",
       "      <td>10</td>\n",
       "      <td>N</td>\n",
       "      <td>125.000000</td>\n",
       "      <td>307</td>\n",
       "    </tr>\n",
       "    <tr>\n",
       "      <th>12</th>\n",
       "      <td>24</td>\n",
       "      <td>0</td>\n",
       "      <td>2000</td>\n",
       "      <td>5</td>\n",
       "      <td>AlexNet</td>\n",
       "      <td>7</td>\n",
       "      <td>N</td>\n",
       "      <td>50.000000</td>\n",
       "      <td>458</td>\n",
       "    </tr>\n",
       "    <tr>\n",
       "      <th>13</th>\n",
       "      <td>4</td>\n",
       "      <td>0</td>\n",
       "      <td>1000</td>\n",
       "      <td>5</td>\n",
       "      <td>MobileNet</td>\n",
       "      <td>5</td>\n",
       "      <td>N</td>\n",
       "      <td>63.000000</td>\n",
       "      <td>448</td>\n",
       "    </tr>\n",
       "    <tr>\n",
       "      <th>14</th>\n",
       "      <td>32</td>\n",
       "      <td>0</td>\n",
       "      <td>2000</td>\n",
       "      <td>1</td>\n",
       "      <td>AlexNet</td>\n",
       "      <td>10</td>\n",
       "      <td>N</td>\n",
       "      <td>250.000000</td>\n",
       "      <td>301</td>\n",
       "    </tr>\n",
       "    <tr>\n",
       "      <th>15</th>\n",
       "      <td>2</td>\n",
       "      <td>0</td>\n",
       "      <td>1000</td>\n",
       "      <td>5</td>\n",
       "      <td>MobileNet</td>\n",
       "      <td>3</td>\n",
       "      <td>N</td>\n",
       "      <td>65.000000</td>\n",
       "      <td>450</td>\n",
       "    </tr>\n",
       "    <tr>\n",
       "      <th>16</th>\n",
       "      <td>37</td>\n",
       "      <td>1</td>\n",
       "      <td>1000</td>\n",
       "      <td>1</td>\n",
       "      <td>AlexNet</td>\n",
       "      <td>10</td>\n",
       "      <td>N</td>\n",
       "      <td>800.000000</td>\n",
       "      <td>298</td>\n",
       "    </tr>\n",
       "    <tr>\n",
       "      <th>17</th>\n",
       "      <td>20</td>\n",
       "      <td>0</td>\n",
       "      <td>2000</td>\n",
       "      <td>5</td>\n",
       "      <td>AlexNet</td>\n",
       "      <td>3</td>\n",
       "      <td>N</td>\n",
       "      <td>52.000000</td>\n",
       "      <td>457</td>\n",
       "    </tr>\n",
       "    <tr>\n",
       "      <th>18</th>\n",
       "      <td>23</td>\n",
       "      <td>0</td>\n",
       "      <td>2000</td>\n",
       "      <td>5</td>\n",
       "      <td>AlexNet</td>\n",
       "      <td>6</td>\n",
       "      <td>N</td>\n",
       "      <td>54.000000</td>\n",
       "      <td>458</td>\n",
       "    </tr>\n",
       "    <tr>\n",
       "      <th>19</th>\n",
       "      <td>12</td>\n",
       "      <td>0</td>\n",
       "      <td>1000</td>\n",
       "      <td>5</td>\n",
       "      <td>AlexNet</td>\n",
       "      <td>4</td>\n",
       "      <td>N</td>\n",
       "      <td>102.000000</td>\n",
       "      <td>453</td>\n",
       "    </tr>\n",
       "    <tr>\n",
       "      <th>20</th>\n",
       "      <td>1</td>\n",
       "      <td>0</td>\n",
       "      <td>1000</td>\n",
       "      <td>5</td>\n",
       "      <td>MobileNet</td>\n",
       "      <td>2</td>\n",
       "      <td>N</td>\n",
       "      <td>64.000000</td>\n",
       "      <td>451</td>\n",
       "    </tr>\n",
       "    <tr>\n",
       "      <th>21</th>\n",
       "      <td>0</td>\n",
       "      <td>0</td>\n",
       "      <td>1000</td>\n",
       "      <td>5</td>\n",
       "      <td>MobileNet</td>\n",
       "      <td>1</td>\n",
       "      <td>N</td>\n",
       "      <td>65.000000</td>\n",
       "      <td>450</td>\n",
       "    </tr>\n",
       "    <tr>\n",
       "      <th>22</th>\n",
       "      <td>21</td>\n",
       "      <td>0</td>\n",
       "      <td>2000</td>\n",
       "      <td>5</td>\n",
       "      <td>AlexNet</td>\n",
       "      <td>4</td>\n",
       "      <td>N</td>\n",
       "      <td>50.000000</td>\n",
       "      <td>457</td>\n",
       "    </tr>\n",
       "    <tr>\n",
       "      <th>23</th>\n",
       "      <td>44</td>\n",
       "      <td>0</td>\n",
       "      <td>1000</td>\n",
       "      <td>3</td>\n",
       "      <td>MobileNet</td>\n",
       "      <td>10</td>\n",
       "      <td>Y</td>\n",
       "      <td>33.333333</td>\n",
       "      <td>53</td>\n",
       "    </tr>\n",
       "    <tr>\n",
       "      <th>24</th>\n",
       "      <td>29</td>\n",
       "      <td>0</td>\n",
       "      <td>1000</td>\n",
       "      <td>3</td>\n",
       "      <td>AlexNet</td>\n",
       "      <td>10</td>\n",
       "      <td>N</td>\n",
       "      <td>166.666667</td>\n",
       "      <td>311</td>\n",
       "    </tr>\n",
       "    <tr>\n",
       "      <th>25</th>\n",
       "      <td>13</td>\n",
       "      <td>0</td>\n",
       "      <td>1000</td>\n",
       "      <td>5</td>\n",
       "      <td>AlexNet</td>\n",
       "      <td>5</td>\n",
       "      <td>N</td>\n",
       "      <td>101.000000</td>\n",
       "      <td>452</td>\n",
       "    </tr>\n",
       "    <tr>\n",
       "      <th>26</th>\n",
       "      <td>7</td>\n",
       "      <td>0</td>\n",
       "      <td>1000</td>\n",
       "      <td>5</td>\n",
       "      <td>MobileNet</td>\n",
       "      <td>8</td>\n",
       "      <td>Y</td>\n",
       "      <td>23.000000</td>\n",
       "      <td>451</td>\n",
       "    </tr>\n",
       "    <tr>\n",
       "      <th>27</th>\n",
       "      <td>8</td>\n",
       "      <td>0</td>\n",
       "      <td>1000</td>\n",
       "      <td>5</td>\n",
       "      <td>MobileNet</td>\n",
       "      <td>9</td>\n",
       "      <td>Y</td>\n",
       "      <td>19.000000</td>\n",
       "      <td>449</td>\n",
       "    </tr>\n",
       "    <tr>\n",
       "      <th>28</th>\n",
       "      <td>19</td>\n",
       "      <td>0</td>\n",
       "      <td>2000</td>\n",
       "      <td>5</td>\n",
       "      <td>AlexNet</td>\n",
       "      <td>2</td>\n",
       "      <td>N</td>\n",
       "      <td>53.000000</td>\n",
       "      <td>456</td>\n",
       "    </tr>\n",
       "    <tr>\n",
       "      <th>29</th>\n",
       "      <td>9</td>\n",
       "      <td>0</td>\n",
       "      <td>1000</td>\n",
       "      <td>5</td>\n",
       "      <td>AlexNet</td>\n",
       "      <td>1</td>\n",
       "      <td>N</td>\n",
       "      <td>101.000000</td>\n",
       "      <td>450</td>\n",
       "    </tr>\n",
       "    <tr>\n",
       "      <th>30</th>\n",
       "      <td>26</td>\n",
       "      <td>0</td>\n",
       "      <td>2000</td>\n",
       "      <td>5</td>\n",
       "      <td>AlexNet</td>\n",
       "      <td>9</td>\n",
       "      <td>N</td>\n",
       "      <td>53.000000</td>\n",
       "      <td>457</td>\n",
       "    </tr>\n",
       "    <tr>\n",
       "      <th>31</th>\n",
       "      <td>43</td>\n",
       "      <td>0</td>\n",
       "      <td>1000</td>\n",
       "      <td>2</td>\n",
       "      <td>MobileNet</td>\n",
       "      <td>10</td>\n",
       "      <td>Y</td>\n",
       "      <td>50.000000</td>\n",
       "      <td>50</td>\n",
       "    </tr>\n",
       "    <tr>\n",
       "      <th>32</th>\n",
       "      <td>28</td>\n",
       "      <td>0</td>\n",
       "      <td>1000</td>\n",
       "      <td>2</td>\n",
       "      <td>AlexNet</td>\n",
       "      <td>10</td>\n",
       "      <td>N</td>\n",
       "      <td>250.000000</td>\n",
       "      <td>310</td>\n",
       "    </tr>\n",
       "    <tr>\n",
       "      <th>33</th>\n",
       "      <td>18</td>\n",
       "      <td>0</td>\n",
       "      <td>2000</td>\n",
       "      <td>5</td>\n",
       "      <td>AlexNet</td>\n",
       "      <td>1</td>\n",
       "      <td>N</td>\n",
       "      <td>53.000000</td>\n",
       "      <td>456</td>\n",
       "    </tr>\n",
       "    <tr>\n",
       "      <th>34</th>\n",
       "      <td>3</td>\n",
       "      <td>0</td>\n",
       "      <td>1000</td>\n",
       "      <td>5</td>\n",
       "      <td>MobileNet</td>\n",
       "      <td>4</td>\n",
       "      <td>N</td>\n",
       "      <td>66.000000</td>\n",
       "      <td>450</td>\n",
       "    </tr>\n",
       "    <tr>\n",
       "      <th>35</th>\n",
       "      <td>11</td>\n",
       "      <td>0</td>\n",
       "      <td>1000</td>\n",
       "      <td>5</td>\n",
       "      <td>AlexNet</td>\n",
       "      <td>3</td>\n",
       "      <td>N</td>\n",
       "      <td>104.000000</td>\n",
       "      <td>453</td>\n",
       "    </tr>\n",
       "    <tr>\n",
       "      <th>36</th>\n",
       "      <td>5</td>\n",
       "      <td>0</td>\n",
       "      <td>1000</td>\n",
       "      <td>5</td>\n",
       "      <td>MobileNet</td>\n",
       "      <td>6</td>\n",
       "      <td>Y</td>\n",
       "      <td>21.000000</td>\n",
       "      <td>449</td>\n",
       "    </tr>\n",
       "    <tr>\n",
       "      <th>37</th>\n",
       "      <td>38</td>\n",
       "      <td>1</td>\n",
       "      <td>1000</td>\n",
       "      <td>2</td>\n",
       "      <td>AlexNet</td>\n",
       "      <td>10</td>\n",
       "      <td>N</td>\n",
       "      <td>500.000000</td>\n",
       "      <td>305</td>\n",
       "    </tr>\n",
       "    <tr>\n",
       "      <th>38</th>\n",
       "      <td>41</td>\n",
       "      <td>1</td>\n",
       "      <td>1000</td>\n",
       "      <td>5</td>\n",
       "      <td>AlexNet</td>\n",
       "      <td>10</td>\n",
       "      <td>N</td>\n",
       "      <td>200.000000</td>\n",
       "      <td>454</td>\n",
       "    </tr>\n",
       "    <tr>\n",
       "      <th>39</th>\n",
       "      <td>22</td>\n",
       "      <td>0</td>\n",
       "      <td>2000</td>\n",
       "      <td>5</td>\n",
       "      <td>AlexNet</td>\n",
       "      <td>5</td>\n",
       "      <td>N</td>\n",
       "      <td>51.000000</td>\n",
       "      <td>456</td>\n",
       "    </tr>\n",
       "    <tr>\n",
       "      <th>40</th>\n",
       "      <td>36</td>\n",
       "      <td>0</td>\n",
       "      <td>2000</td>\n",
       "      <td>5</td>\n",
       "      <td>AlexNet</td>\n",
       "      <td>10</td>\n",
       "      <td>N</td>\n",
       "      <td>50.000000</td>\n",
       "      <td>458</td>\n",
       "    </tr>\n",
       "    <tr>\n",
       "      <th>41</th>\n",
       "      <td>10</td>\n",
       "      <td>0</td>\n",
       "      <td>1000</td>\n",
       "      <td>5</td>\n",
       "      <td>AlexNet</td>\n",
       "      <td>2</td>\n",
       "      <td>N</td>\n",
       "      <td>102.000000</td>\n",
       "      <td>449</td>\n",
       "    </tr>\n",
       "    <tr>\n",
       "      <th>42</th>\n",
       "      <td>40</td>\n",
       "      <td>1</td>\n",
       "      <td>1000</td>\n",
       "      <td>4</td>\n",
       "      <td>AlexNet</td>\n",
       "      <td>10</td>\n",
       "      <td>N</td>\n",
       "      <td>250.000000</td>\n",
       "      <td>449</td>\n",
       "    </tr>\n",
       "    <tr>\n",
       "      <th>43</th>\n",
       "      <td>14</td>\n",
       "      <td>0</td>\n",
       "      <td>1000</td>\n",
       "      <td>5</td>\n",
       "      <td>AlexNet</td>\n",
       "      <td>6</td>\n",
       "      <td>N</td>\n",
       "      <td>99.000000</td>\n",
       "      <td>450</td>\n",
       "    </tr>\n",
       "    <tr>\n",
       "      <th>44</th>\n",
       "      <td>35</td>\n",
       "      <td>0</td>\n",
       "      <td>2000</td>\n",
       "      <td>4</td>\n",
       "      <td>AlexNet</td>\n",
       "      <td>10</td>\n",
       "      <td>N</td>\n",
       "      <td>300.000000</td>\n",
       "      <td>460</td>\n",
       "    </tr>\n",
       "    <tr>\n",
       "      <th>45</th>\n",
       "      <td>15</td>\n",
       "      <td>0</td>\n",
       "      <td>1000</td>\n",
       "      <td>5</td>\n",
       "      <td>AlexNet</td>\n",
       "      <td>7</td>\n",
       "      <td>N</td>\n",
       "      <td>97.000000</td>\n",
       "      <td>455</td>\n",
       "    </tr>\n",
       "    <tr>\n",
       "      <th>46</th>\n",
       "      <td>42</td>\n",
       "      <td>0</td>\n",
       "      <td>1000</td>\n",
       "      <td>1</td>\n",
       "      <td>MobileNet</td>\n",
       "      <td>10</td>\n",
       "      <td>Y</td>\n",
       "      <td>100.000000</td>\n",
       "      <td>51</td>\n",
       "    </tr>\n",
       "  </tbody>\n",
       "</table>\n",
       "</div>"
      ],
      "text/plain": [
       "    TestId  Device  CPUFrequency (MHz)  Threads  MLNetwork  Build Optimised  \\\n",
       "0       17       0                1000        5    AlexNet      9         N   \n",
       "1       16       0                1000        5    AlexNet      8         N   \n",
       "2       39       1                1000        3    AlexNet     10         N   \n",
       "3       31       0                1000        5    AlexNet     10         N   \n",
       "4       30       0                1000        4    AlexNet     10         N   \n",
       "5       25       0                2000        5    AlexNet      8         N   \n",
       "6       45       0                1000        4  MobileNet     10         Y   \n",
       "7       34       0                2000        3    AlexNet     10         N   \n",
       "8        6       0                1000        5  MobileNet      7         Y   \n",
       "9       27       0                1000        1    AlexNet     10         N   \n",
       "10      46       0                1000        5  MobileNet     10         Y   \n",
       "11      33       0                2000        2    AlexNet     10         N   \n",
       "12      24       0                2000        5    AlexNet      7         N   \n",
       "13       4       0                1000        5  MobileNet      5         N   \n",
       "14      32       0                2000        1    AlexNet     10         N   \n",
       "15       2       0                1000        5  MobileNet      3         N   \n",
       "16      37       1                1000        1    AlexNet     10         N   \n",
       "17      20       0                2000        5    AlexNet      3         N   \n",
       "18      23       0                2000        5    AlexNet      6         N   \n",
       "19      12       0                1000        5    AlexNet      4         N   \n",
       "20       1       0                1000        5  MobileNet      2         N   \n",
       "21       0       0                1000        5  MobileNet      1         N   \n",
       "22      21       0                2000        5    AlexNet      4         N   \n",
       "23      44       0                1000        3  MobileNet     10         Y   \n",
       "24      29       0                1000        3    AlexNet     10         N   \n",
       "25      13       0                1000        5    AlexNet      5         N   \n",
       "26       7       0                1000        5  MobileNet      8         Y   \n",
       "27       8       0                1000        5  MobileNet      9         Y   \n",
       "28      19       0                2000        5    AlexNet      2         N   \n",
       "29       9       0                1000        5    AlexNet      1         N   \n",
       "30      26       0                2000        5    AlexNet      9         N   \n",
       "31      43       0                1000        2  MobileNet     10         Y   \n",
       "32      28       0                1000        2    AlexNet     10         N   \n",
       "33      18       0                2000        5    AlexNet      1         N   \n",
       "34       3       0                1000        5  MobileNet      4         N   \n",
       "35      11       0                1000        5    AlexNet      3         N   \n",
       "36       5       0                1000        5  MobileNet      6         Y   \n",
       "37      38       1                1000        2    AlexNet     10         N   \n",
       "38      41       1                1000        5    AlexNet     10         N   \n",
       "39      22       0                2000        5    AlexNet      5         N   \n",
       "40      36       0                2000        5    AlexNet     10         N   \n",
       "41      10       0                1000        5    AlexNet      2         N   \n",
       "42      40       1                1000        4    AlexNet     10         N   \n",
       "43      14       0                1000        5    AlexNet      6         N   \n",
       "44      35       0                2000        4    AlexNet     10         N   \n",
       "45      15       0                1000        5    AlexNet      7         N   \n",
       "46      42       0                1000        1  MobileNet     10         Y   \n",
       "\n",
       "     Time (ms)  PeakMemory (MB)  \n",
       "0   102.000000              449  \n",
       "1   104.000000              453  \n",
       "2   333.333333              302  \n",
       "3   100.000000              449  \n",
       "4   125.000000              450  \n",
       "5    53.000000              458  \n",
       "6    25.000000               85  \n",
       "7    83.333333              308  \n",
       "8    25.000000              450  \n",
       "9   500.000000              300  \n",
       "10   20.000000               86  \n",
       "11  125.000000              307  \n",
       "12   50.000000              458  \n",
       "13   63.000000              448  \n",
       "14  250.000000              301  \n",
       "15   65.000000              450  \n",
       "16  800.000000              298  \n",
       "17   52.000000              457  \n",
       "18   54.000000              458  \n",
       "19  102.000000              453  \n",
       "20   64.000000              451  \n",
       "21   65.000000              450  \n",
       "22   50.000000              457  \n",
       "23   33.333333               53  \n",
       "24  166.666667              311  \n",
       "25  101.000000              452  \n",
       "26   23.000000              451  \n",
       "27   19.000000              449  \n",
       "28   53.000000              456  \n",
       "29  101.000000              450  \n",
       "30   53.000000              457  \n",
       "31   50.000000               50  \n",
       "32  250.000000              310  \n",
       "33   53.000000              456  \n",
       "34   66.000000              450  \n",
       "35  104.000000              453  \n",
       "36   21.000000              449  \n",
       "37  500.000000              305  \n",
       "38  200.000000              454  \n",
       "39   51.000000              456  \n",
       "40   50.000000              458  \n",
       "41  102.000000              449  \n",
       "42  250.000000              449  \n",
       "43   99.000000              450  \n",
       "44  300.000000              460  \n",
       "45   97.000000              455  \n",
       "46  100.000000               51  "
      ]
     },
     "execution_count": 97,
     "metadata": {},
     "output_type": "execute_result"
    }
   ],
   "source": [
    "final"
   ]
  },
  {
   "cell_type": "code",
   "execution_count": null,
   "id": "e52fd03f",
   "metadata": {},
   "outputs": [],
   "source": []
  }
 ],
 "metadata": {
  "kernelspec": {
   "display_name": "Python 3 (ipykernel)",
   "language": "python",
   "name": "python3"
  },
  "language_info": {
   "codemirror_mode": {
    "name": "ipython",
    "version": 3
   },
   "file_extension": ".py",
   "mimetype": "text/x-python",
   "name": "python",
   "nbconvert_exporter": "python",
   "pygments_lexer": "ipython3",
   "version": "3.9.13"
  }
 },
 "nbformat": 4,
 "nbformat_minor": 5
}
